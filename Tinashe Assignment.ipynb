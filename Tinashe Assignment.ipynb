{
 "cells": [
  {
   "cell_type": "code",
   "execution_count": 4,
   "metadata": {},
   "outputs": [],
   "source": [
    "# Import Libraries\n",
    "import math"
   ]
  },
  {
   "cell_type": "code",
   "execution_count": 24,
   "metadata": {},
   "outputs": [],
   "source": [
    "def retirement_age(PMT,i,FV,start_age):\n",
    "    age = start_age + (math.log10(1 + (FV*i/PMT))/math.log10(1+i)); # Reverse engineered from next formula in savings\n",
    "    return int(age+1); # Added One to Age because"
   ]
  },
  {
   "cell_type": "code",
   "execution_count": 21,
   "metadata": {},
   "outputs": [],
   "source": [
    "def retirement_savings(PMT,i,start_age,end_age):\n",
    "    # Calculate the Compound interest\n",
    "    #PV = PMT * (1 - ((1+i) ** (start_age- end_age))) / i; # First need to get the present Value of the annuity\n",
    "    #FV = PV*((1+i)**(end_age-start_age)); # Get what the value would be when compounded over those years\n",
    "    FV = PMT * (((1+i)**(end_age - start_age))-1)/i;\n",
    "    return round(FV,2);"
   ]
  },
  {
   "cell_type": "code",
   "execution_count": 25,
   "metadata": {},
   "outputs": [
    {
     "name": "stdout",
     "output_type": "stream",
     "text": [
      "35\n"
     ]
    }
   ],
   "source": [
    "print (retirement_age(20000, 0.1,635449.63, 20)) # Test Retirement age function"
   ]
  },
  {
   "cell_type": "code",
   "execution_count": 22,
   "metadata": {},
   "outputs": [
    {
     "name": "stdout",
     "output_type": "stream",
     "text": [
      "635449.63\n"
     ]
    }
   ],
   "source": [
    "print (retirement_savings(20000, 0.1, 20, 35)) # Test Retirement Savings Function"
   ]
  },
  {
   "cell_type": "code",
   "execution_count": 53,
   "metadata": {},
   "outputs": [],
   "source": [
    "# This function isn't working right now!! -_-\n",
    "\n",
    "def investment(PMT, n, i):\n",
    "    # Need to find formula to solve the investment balance\n",
    "    investment_balance = PMT;\n",
    "    for k in range(1,n+1):\n",
    "        investment_balance += (2**math.floor(k/2))*PMT*((1+i)**n); \n",
    "    #sum((PMT*(2**n))*((1+i)**n));   \n",
    "    return round(investment_balance,2);"
   ]
  },
  {
   "cell_type": "code",
   "execution_count": 54,
   "metadata": {},
   "outputs": [
    {
     "name": "stdout",
     "output_type": "stream",
     "text": [
      "29081782705.87\n"
     ]
    }
   ],
   "source": [
    "print (investment(15000, 30,0.1045))"
   ]
  },
  {
   "cell_type": "code",
   "execution_count": 55,
   "metadata": {},
   "outputs": [],
   "source": [
    "def pay_off_period(PV,PMT,i):\n",
    "    n = -(math.log10(1 - (PV*i/PMT))/math.log10(1+i)); #USe PV of annuity formula\n",
    "    return int(n+1);"
   ]
  },
  {
   "cell_type": "code",
   "execution_count": 56,
   "metadata": {},
   "outputs": [
    {
     "name": "stdout",
     "output_type": "stream",
     "text": [
      "25\n"
     ]
    }
   ],
   "source": [
    "print(pay_off_period(1578934,15000*12,0.1045))"
   ]
  },
  {
   "cell_type": "code",
   "execution_count": null,
   "metadata": {},
   "outputs": [],
   "source": []
  }
 ],
 "metadata": {
  "kernelspec": {
   "display_name": "Python 3",
   "language": "python",
   "name": "python3"
  },
  "language_info": {
   "codemirror_mode": {
    "name": "ipython",
    "version": 3
   },
   "file_extension": ".py",
   "mimetype": "text/x-python",
   "name": "python",
   "nbconvert_exporter": "python",
   "pygments_lexer": "ipython3",
   "version": "3.6.6"
  }
 },
 "nbformat": 4,
 "nbformat_minor": 2
}
