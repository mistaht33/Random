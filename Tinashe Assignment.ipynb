{
 "cells": [
  {
   "cell_type": "code",
   "execution_count": 1,
   "metadata": {},
   "outputs": [],
   "source": [
    "# Import Libraries\n",
    "import math"
   ]
  },
  {
   "cell_type": "code",
   "execution_count": 24,
   "metadata": {},
   "outputs": [],
   "source": [
    "def retirement_age(PMT,i,FV,start_age):\n",
    "    # Calculate the Compound interest\n",
    "    age = start_age + (math.log10(1 + (FV*i/PMT))/math.log10(1+i)); # Reverse engineered \n",
    "    return int(age+1); # Added One to Age because"
   ]
  },
  {
   "cell_type": "code",
   "execution_count": 21,
   "metadata": {},
   "outputs": [],
   "source": [
    "def retirement_savings(PMT,i,start_age,end_age):\n",
    "    # Calculate the Compound interest\n",
    "    #PV = PMT * (1 - ((1+i) ** (start_age- end_age))) / i; # First need to get the present Value of the annuity\n",
    "    #FV = PV*((1+i)**(end_age-start_age)); # Get what the value would be when compounded over those years\n",
    "    FV = PMT * (((1+i)**(end_age - start_age))-1)/i;\n",
    "    return round(FV,2);"
   ]
  },
  {
   "cell_type": "code",
   "execution_count": 25,
   "metadata": {},
   "outputs": [
    {
     "name": "stdout",
     "output_type": "stream",
     "text": [
      "35\n"
     ]
    }
   ],
   "source": [
    "print (retirement_age(20000, 0.1,635449.63, 20)) # Test Retirement age function"
   ]
  },
  {
   "cell_type": "code",
   "execution_count": 22,
   "metadata": {},
   "outputs": [
    {
     "name": "stdout",
     "output_type": "stream",
     "text": [
      "635449.63\n"
     ]
    }
   ],
   "source": [
    "print (retirement_savings(20000, 0.1, 20, 35)) # Test Retirement Savings Function"
   ]
  },
  {
   "cell_type": "code",
   "execution_count": null,
   "metadata": {},
   "outputs": [],
   "source": []
  }
 ],
 "metadata": {
  "kernelspec": {
   "display_name": "Python 3",
   "language": "python",
   "name": "python3"
  },
  "language_info": {
   "codemirror_mode": {
    "name": "ipython",
    "version": 3
   },
   "file_extension": ".py",
   "mimetype": "text/x-python",
   "name": "python",
   "nbconvert_exporter": "python",
   "pygments_lexer": "ipython3",
   "version": "3.6.6"
  }
 },
 "nbformat": 4,
 "nbformat_minor": 2
}
